{
 "cells": [
  {
   "cell_type": "markdown",
   "id": "c22dacfa",
   "metadata": {},
   "source": [
    "# Data Transformation"
   ]
  },
  {
   "cell_type": "code",
   "execution_count": null,
   "id": "b81feb4d",
   "metadata": {},
   "outputs": [],
   "source": [
    "import pandas as pd\n",
    "import numpy as np\n",
    "import matplotlib.pyplot as plt\n",
    "import seaborn as sns\n",
    "from datetime import datetime\n",
    "import os\n",
    "import warnings\n",
    "warnings.filterwarnings('ignore')\n",
    "\n",
    "%matplotlib inline"
   ]
  },
  {
   "cell_type": "markdown",
   "id": "b3cf688c",
   "metadata": {},
   "source": [
    "## Data Transformation\n",
    "\n",
    "This notebook implements feature engineering and data transformations to prepare the data for modeling.\n",
    "It includes normalization, encoding, and creation of derived features."
   ]
  },
  {
   "cell_type": "code",
   "execution_count": null,
   "id": "a60a8e4e",
   "metadata": {},
   "outputs": [],
   "source": [
    "# Import necessary libraries\n",
    "import pandas as pd\n",
    "import numpy as np\n",
    "import matplotlib.pyplot as plt\n",
    "import seaborn as sns\n",
    "from sklearn.preprocessing import StandardScaler, OneHotEncoder, LabelEncoder\n",
    "from sklearn.decomposition import PCA\n",
    "from sklearn.pipeline import Pipeline\n",
    "from sklearn.compose import ColumnTransformer\n",
    "import warnings\n",
    "warnings.filterwarnings('ignore')\n"
   ]
  },
  {
   "cell_type": "code",
   "execution_count": null,
   "id": "8645111f",
   "metadata": {},
   "outputs": [],
   "source": [
    "# Load the dataset"
   ]
  },
  {
   "cell_type": "code",
   "execution_count": null,
   "id": "d0a72662",
   "metadata": {},
   "outputs": [],
   "source": [
    "# Assuming the dataset is in a CSV file named 'nz_industry_data.csv'\n",
    "df = pd.read_csv('nz_industry_data.csv')\n"
   ]
  },
  {
   "cell_type": "code",
   "execution_count": null,
   "id": "e0d820f5",
   "metadata": {},
   "outputs": [],
   "source": [
    "# Display basic information about the dataset\n",
    "print(\"Dataset shape:\", df.shape)\n",
    "df.info()\n",
    "df.head()\n"
   ]
  },
  {
   "cell_type": "code",
   "execution_count": null,
   "id": "9d07d350",
   "metadata": {},
   "outputs": [],
   "source": [
    "# Convert 'Value' column to numeric"
   ]
  },
  {
   "cell_type": "code",
   "execution_count": null,
   "id": "cebbc20c",
   "metadata": {},
   "outputs": [],
   "source": [
    "# First, remove any non-numeric characters (like commas or currency symbols)\n",
    "df['Value'] = pd.to_numeric(df['Value'].str.replace(',', '').str.replace('$', ''), errors='coerce')\n"
   ]
  },
  {
   "cell_type": "code",
   "execution_count": null,
   "id": "3905129e",
   "metadata": {},
   "outputs": [],
   "source": [
    "# Check for missing values after conversion\n",
    "print(\"\\nMissing values after converting 'Value' to numeric:\")\n",
    "print(df.isnull().sum())\n"
   ]
  },
  {
   "cell_type": "code",
   "execution_count": null,
   "id": "e622cf3e",
   "metadata": {},
   "outputs": [],
   "source": [
    "# Fill any missing values if necessary\n",
    "df = df.fillna({\n",
    "    'Value': df['Value'].median()\n",
    "})\n"
   ]
  },
  {
   "cell_type": "code",
   "execution_count": null,
   "id": "7b5dacbc",
   "metadata": {},
   "outputs": [],
   "source": [
    "# Extract clean industry codes from ANZSIC06"
   ]
  },
  {
   "cell_type": "code",
   "execution_count": null,
   "id": "260be7f0",
   "metadata": {},
   "outputs": [],
   "source": [
    "# Create a new column with simplified industry codes\n",
    "df['Industry_code_simple'] = df['Industry_code_ANZSIC06'].str.extract(r'(ANZSIC06 [A-Za-z0-9\\-]+)')\n"
   ]
  },
  {
   "cell_type": "code",
   "execution_count": null,
   "id": "d8c2e3ce",
   "metadata": {},
   "outputs": [],
   "source": [
    "# Feature Engineering\n"
   ]
  },
  {
   "cell_type": "code",
   "execution_count": null,
   "id": "8546ebf2",
   "metadata": {},
   "outputs": [],
   "source": [
    "# 1. Create financial ratios and metrics"
   ]
  },
  {
   "cell_type": "code",
   "execution_count": null,
   "id": "b8ae9e6a",
   "metadata": {},
   "outputs": [],
   "source": [
    "# Group by Year and Industry to calculate aggregated metrics\n",
    "financial_metrics = df.pivot_table(\n",
    "    index=['Year', 'Industry_code_NZSIOC', 'Industry_name_NZSIOC'],\n",
    "    columns='Variable_name',\n",
    "    values='Value',\n",
    "    aggfunc='sum'\n",
    ").reset_index()\n"
   ]
  },
  {
   "cell_type": "code",
   "execution_count": null,
   "id": "bf857cec",
   "metadata": {},
   "outputs": [],
   "source": [
    "# Rename columns to remove spaces and special characters\n",
    "financial_metrics.columns = [col.replace(' ', '_').replace(',', '').replace('-', '_') \n",
    "                            if isinstance(col, str) else col \n",
    "                            for col in financial_metrics.columns]\n"
   ]
  },
  {
   "cell_type": "code",
   "execution_count": null,
   "id": "93638105",
   "metadata": {},
   "outputs": [],
   "source": [
    "# Calculate profit (Total income - Total expenditure)\n",
    "if 'Total_income' in financial_metrics.columns and 'Total_expenditure' in financial_metrics.columns:\n",
    "    financial_metrics['Profit'] = financial_metrics['Total_income'] - financial_metrics['Total_expenditure']\n",
    "    "
   ]
  },
  {
   "cell_type": "code",
   "execution_count": null,
   "id": "c0a0db16",
   "metadata": {},
   "outputs": [],
   "source": [
    "    # Calculate profit margin\n",
    "    financial_metrics['Profit_Margin'] = financial_metrics['Profit'] / financial_metrics['Total_income']\n"
   ]
  },
  {
   "cell_type": "code",
   "execution_count": null,
   "id": "027cd4ce",
   "metadata": {},
   "outputs": [],
   "source": [
    "# 2. Create time-based features"
   ]
  },
  {
   "cell_type": "code",
   "execution_count": null,
   "id": "db0e194e",
   "metadata": {},
   "outputs": [],
   "source": [
    "# Calculate year-over-year growth for key metrics\n",
    "if 'Total_income' in financial_metrics.columns:\n",
    "    financial_metrics = financial_metrics.sort_values(['Industry_code_NZSIOC', 'Year'])\n",
    "    financial_metrics['Income_YoY_Growth'] = financial_metrics.groupby('Industry_code_NZSIOC')['Total_income'].pct_change()\n",
    "\n",
    "if 'Total_expenditure' in financial_metrics.columns:\n",
    "    financial_metrics['Expenditure_YoY_Growth'] = financial_metrics.groupby('Industry_code_NZSIOC')['Total_expenditure'].pct_change()\n"
   ]
  },
  {
   "cell_type": "code",
   "execution_count": null,
   "id": "1e3cf52a",
   "metadata": {},
   "outputs": [],
   "source": [
    "# 3. Create industry size categories based on income\n",
    "if 'Total_income' in financial_metrics.columns:"
   ]
  },
  {
   "cell_type": "code",
   "execution_count": null,
   "id": "8237e388",
   "metadata": {},
   "outputs": [],
   "source": [
    "    # Define quantiles for industry size categorization\n",
    "    income_quantiles = financial_metrics.groupby('Year')['Total_income'].transform(\n",
    "        lambda x: pd.qcut(x, q=[0, 0.25, 0.5, 0.75, 1], labels=['Small', 'Medium', 'Large', 'Very Large'])\n",
    "    )\n",
    "    financial_metrics['Industry_Size'] = income_quantiles\n"
   ]
  },
  {
   "cell_type": "code",
   "execution_count": null,
   "id": "ab072cae",
   "metadata": {},
   "outputs": [],
   "source": [
    "# 4. Create industry growth classification\n",
    "if 'Income_YoY_Growth' in financial_metrics.columns:\n",
    "    conditions = [\n",
    "        (financial_metrics['Income_YoY_Growth'] > 0.1),\n",
    "        (financial_metrics['Income_YoY_Growth'] > 0.02) & (financial_metrics['Income_YoY_Growth'] <= 0.1),\n",
    "        (financial_metrics['Income_YoY_Growth'] >= -0.02) & (financial_metrics['Income_YoY_Growth'] <= 0.02),\n",
    "        (financial_metrics['Income_YoY_Growth'] < -0.02)\n",
    "    ]\n",
    "    choices = ['High Growth', 'Moderate Growth', 'Stable', 'Declining']\n",
    "    financial_metrics['Growth_Category'] = np.select(conditions, choices, default='Unknown')\n"
   ]
  },
  {
   "cell_type": "code",
   "execution_count": null,
   "id": "53b621ff",
   "metadata": {},
   "outputs": [],
   "source": [
    "# 5. Create economic cycle indicators"
   ]
  },
  {
   "cell_type": "code",
   "execution_count": null,
   "id": "48c83c81",
   "metadata": {},
   "outputs": [],
   "source": [
    "# Define economic periods (this is a simplified example - in reality would need external economic data)\n",
    "economic_periods = {\n",
    "    2013: 'Recovery',\n",
    "    2014: 'Growth',\n",
    "    2015: 'Growth',\n",
    "    2016: 'Growth',\n",
    "    2017: 'Growth',\n",
    "    2018: 'Peak',\n",
    "    2019: 'Peak',\n",
    "    2020: 'Recession',  # COVID-19 impact\n",
    "    2021: 'Recovery',\n",
    "    2022: 'Recovery',\n",
    "    2023: 'Stabilization'\n",
    "}\n",
    "financial_metrics['Economic_Cycle'] = financial_metrics['Year'].map(economic_periods)\n"
   ]
  },
  {
   "cell_type": "code",
   "execution_count": null,
   "id": "4d01eb01",
   "metadata": {},
   "outputs": [],
   "source": [
    "# Merge the engineered features back to the original dataset if needed"
   ]
  },
  {
   "cell_type": "code",
   "execution_count": null,
   "id": "d691c560",
   "metadata": {},
   "outputs": [],
   "source": [
    "# This creates a new dataframe with both original and engineered features\n",
    "df_enriched = df.merge(\n",
    "    financial_metrics[['Year', 'Industry_code_NZSIOC', 'Industry_name_NZSIOC', 'Profit', 'Profit_Margin', \n",
    "                      'Income_YoY_Growth', 'Industry_Size', 'Growth_Category', 'Economic_Cycle']],\n",
    "    on=['Year', 'Industry_code_NZSIOC', 'Industry_name_NZSIOC'],\n",
    "    how='left'\n",
    ")\n"
   ]
  },
  {
   "cell_type": "code",
   "execution_count": null,
   "id": "1a6a2018",
   "metadata": {},
   "outputs": [],
   "source": [
    "# Data Normalization/Standardization\n"
   ]
  },
  {
   "cell_type": "code",
   "execution_count": null,
   "id": "b11ce994",
   "metadata": {},
   "outputs": [],
   "source": [
    "# 1. Select numerical columns for standardization\n",
    "numeric_cols = ['Value', 'Profit', 'Profit_Margin', 'Income_YoY_Growth']\n",
    "numeric_cols = [col for col in numeric_cols if col in df_enriched.columns]\n"
   ]
  },
  {
   "cell_type": "code",
   "execution_count": null,
   "id": "3937d958",
   "metadata": {},
   "outputs": [],
   "source": [
    "# 2. Apply StandardScaler to numeric columns\n",
    "scaler = StandardScaler()\n",
    "df_enriched[numeric_cols + '_scaled'] = scaler.fit_transform(df_enriched[numeric_cols].fillna(0))\n"
   ]
  },
  {
   "cell_type": "code",
   "execution_count": null,
   "id": "5f34454d",
   "metadata": {},
   "outputs": [],
   "source": [
    "# Encoding Categorical Variables\n"
   ]
  },
  {
   "cell_type": "code",
   "execution_count": null,
   "id": "db8aef47",
   "metadata": {},
   "outputs": [],
   "source": [
    "# 1. Select categorical columns for encoding\n",
    "categorical_cols = ['Industry_aggregation_NZSIOC', 'Industry_code_NZSIOC', 'Units', \n",
    "                   'Variable_code', 'Variable_category', 'Industry_Size', 'Growth_Category', 'Economic_Cycle']\n",
    "categorical_cols = [col for col in categorical_cols if col in df_enriched.columns]\n"
   ]
  },
  {
   "cell_type": "code",
   "execution_count": null,
   "id": "e0b079d8",
   "metadata": {},
   "outputs": [],
   "source": [
    "# 2. Apply Label Encoding for ordinal categories\n",
    "label_encoder = LabelEncoder()\n",
    "for col in ['Industry_Size', 'Economic_Cycle']:\n",
    "    if col in df_enriched.columns:\n",
    "        df_enriched[col + '_encoded'] = label_encoder.fit_transform(df_enriched[col].fillna('Unknown'))\n"
   ]
  },
  {
   "cell_type": "code",
   "execution_count": null,
   "id": "ff1d12ea",
   "metadata": {},
   "outputs": [],
   "source": [
    "# 3. Apply One-Hot Encoding for nominal categories"
   ]
  },
  {
   "cell_type": "code",
   "execution_count": null,
   "id": "152c5884",
   "metadata": {},
   "outputs": [],
   "source": [
    "# For demonstration, we'll one-hot encode a subset of categorical columns to avoid too many columns\n",
    "ohe_cols = ['Industry_aggregation_NZSIOC', 'Variable_category', 'Growth_Category']\n",
    "ohe_cols = [col for col in ohe_cols if col in df_enriched.columns]\n",
    "\n",
    "for col in ohe_cols:\n",
    "    ohe = pd.get_dummies(df_enriched[col], prefix=col)\n",
    "    df_enriched = pd.concat([df_enriched, ohe], axis=1)\n"
   ]
  },
  {
   "cell_type": "code",
   "execution_count": null,
   "id": "9db27586",
   "metadata": {},
   "outputs": [],
   "source": [
    "# Dimensionality Reduction with PCA"
   ]
  },
  {
   "cell_type": "code",
   "execution_count": null,
   "id": "5122602f",
   "metadata": {},
   "outputs": [],
   "source": [
    "# Select numeric columns for PCA\n",
    "pca_cols = [col for col in df_enriched.columns if col.endswith('_scaled')]\n",
    "\n",
    "if len(pca_cols) >= 2:  # Need at least 2 columns for PCA to be meaningful"
   ]
  },
  {
   "cell_type": "code",
   "execution_count": null,
   "id": "b33cb847",
   "metadata": {},
   "outputs": [],
   "source": [
    "    # Apply PCA\n",
    "    pca = PCA(n_components=min(len(pca_cols), 3))  # Keep up to 3 components\n",
    "    pca_result = pca.fit_transform(df_enriched[pca_cols].fillna(0))\n",
    "    "
   ]
  },
  {
   "cell_type": "code",
   "execution_count": null,
   "id": "e5948d9d",
   "metadata": {},
   "outputs": [],
   "source": [
    "    # Add PCA results to dataframe\n",
    "    df_enriched['PCA_1'] = pca_result[:, 0]\n",
    "    if pca_result.shape[1] > 1:\n",
    "        df_enriched['PCA_2'] = pca_result[:, 1]\n",
    "    if pca_result.shape[1] > 2:\n",
    "        df_enriched['PCA_3'] = pca_result[:, 2]\n",
    "    "
   ]
  },
  {
   "cell_type": "code",
   "execution_count": null,
   "id": "9bf815f2",
   "metadata": {},
   "outputs": [],
   "source": [
    "    # Print explained variance\n",
    "    print(\"\\nPCA Explained Variance Ratio:\", pca.explained_variance_ratio_)\n",
    "    print(\"Cumulative Explained Variance:\", np.sum(pca.explained_variance_ratio_))\n"
   ]
  },
  {
   "cell_type": "code",
   "execution_count": null,
   "id": "773b2682",
   "metadata": {},
   "outputs": [],
   "source": [
    "# Create additional derived features\n"
   ]
  },
  {
   "cell_type": "code",
   "execution_count": null,
   "id": "810affec",
   "metadata": {},
   "outputs": [],
   "source": [
    "# 1. Calculate rolling averages for time series analysis"
   ]
  },
  {
   "cell_type": "code",
   "execution_count": null,
   "id": "e38d1e4b",
   "metadata": {},
   "outputs": [],
   "source": [
    "# Group by industry and calculate 3-year rolling averages for key metrics\n",
    "if 'Total_income' in financial_metrics.columns:\n",
    "    rolling_metrics = financial_metrics.sort_values(['Industry_code_NZSIOC', 'Year'])\n",
    "    rolling_metrics['Income_3yr_Rolling_Avg'] = rolling_metrics.groupby('Industry_code_NZSIOC')['Total_income'].transform(\n",
    "        lambda x: x.rolling(window=3, min_periods=1).mean()\n",
    "    )\n",
    "    "
   ]
  },
  {
   "cell_type": "code",
   "execution_count": null,
   "id": "73f61c00",
   "metadata": {},
   "outputs": [],
   "source": [
    "    # Merge rolling averages back to enriched dataframe\n",
    "    df_enriched = df_enriched.merge(\n",
    "        rolling_metrics[['Year', 'Industry_code_NZSIOC', 'Income_3yr_Rolling_Avg']],\n",
    "        on=['Year', 'Industry_code_NZSIOC'],\n",
    "        how='left'\n",
    "    )\n"
   ]
  },
  {
   "cell_type": "code",
   "execution_count": null,
   "id": "54a0e3be",
   "metadata": {},
   "outputs": [],
   "source": [
    "# 2. Calculate industry concentration metrics"
   ]
  },
  {
   "cell_type": "code",
   "execution_count": null,
   "id": "987ddceb",
   "metadata": {},
   "outputs": [],
   "source": [
    "# For each year, calculate the share of each industry in total income\n",
    "if 'Total_income' in financial_metrics.columns:\n",
    "    yearly_totals = financial_metrics.groupby('Year')['Total_income'].sum().reset_index()\n",
    "    yearly_totals.rename(columns={'Total_income': 'Year_Total_Income'}, inplace=True)\n",
    "    \n",
    "    concentration_metrics = financial_metrics.merge(yearly_totals, on='Year', how='left')\n",
    "    concentration_metrics['Market_Share'] = concentration_metrics['Total_income'] / concentration_metrics['Year_Total_Income']\n",
    "    "
   ]
  },
  {
   "cell_type": "code",
   "execution_count": null,
   "id": "73ce006c",
   "metadata": {},
   "outputs": [],
   "source": [
    "    # Merge market share back to enriched dataframe\n",
    "    df_enriched = df_enriched.merge(\n",
    "        concentration_metrics[['Year', 'Industry_code_NZSIOC', 'Market_Share']],\n",
    "        on=['Year', 'Industry_code_NZSIOC'],\n",
    "        how='left'\n",
    "    )\n"
   ]
  },
  {
   "cell_type": "code",
   "execution_count": null,
   "id": "2ca08146",
   "metadata": {},
   "outputs": [],
   "source": [
    "# 3. Create volatility measures"
   ]
  },
  {
   "cell_type": "code",
   "execution_count": null,
   "id": "909e6c54",
   "metadata": {},
   "outputs": [],
   "source": [
    "# Calculate coefficient of variation for industries over time\n",
    "if 'Total_income' in financial_metrics.columns:\n",
    "    volatility = financial_metrics.groupby('Industry_code_NZSIOC')['Total_income'].agg(['mean', 'std']).reset_index()\n",
    "    volatility['Income_Volatility'] = volatility['std'] / volatility['mean']\n",
    "    volatility = volatility[['Industry_code_NZSIOC', 'Income_Volatility']]\n",
    "    "
   ]
  },
  {
   "cell_type": "code",
   "execution_count": null,
   "id": "744cb55f",
   "metadata": {},
   "outputs": [],
   "source": [
    "    # Merge volatility metrics back to enriched dataframe\n",
    "    df_enriched = df_enriched.merge(volatility, on='Industry_code_NZSIOC', how='left')\n"
   ]
  },
  {
   "cell_type": "code",
   "execution_count": null,
   "id": "c3bed1f3",
   "metadata": {},
   "outputs": [],
   "source": [
    "# Display the final transformed dataset\n",
    "print(\"\\nTransformed dataset shape:\", df_enriched.shape)\n",
    "print(\"\\nNew features created:\")\n",
    "new_cols = [col for col in df_enriched.columns if col not in df.columns]\n",
    "print(new_cols)\n"
   ]
  },
  {
   "cell_type": "code",
   "execution_count": null,
   "id": "3a41c17a",
   "metadata": {},
   "outputs": [],
   "source": [
    "# Save the transformed dataset\n",
    "df_enriched.to_csv('nz_industry_transformed.csv', index=False)\n"
   ]
  },
  {
   "cell_type": "code",
   "execution_count": null,
   "id": "23fa59eb",
   "metadata": {},
   "outputs": [],
   "source": [
    "# Visualize some of the engineered features\n",
    "plt.figure(figsize=(12, 8))\n"
   ]
  },
  {
   "cell_type": "code",
   "execution_count": null,
   "id": "3e23e60e",
   "metadata": {},
   "outputs": [],
   "source": [
    "# Plot 1: Distribution of Profit Margin by Industry Size\n",
    "if 'Profit_Margin' in df_enriched.columns and 'Industry_Size' in df_enriched.columns:\n",
    "    plt.subplot(2, 2, 1)\n",
    "    sns.boxplot(x='Industry_Size', y='Profit_Margin', data=df_enriched)\n",
    "    plt.title('Profit Margin by Industry Size')\n",
    "    plt.xticks(rotation=45)\n"
   ]
  },
  {
   "cell_type": "code",
   "execution_count": null,
   "id": "745fc8b7",
   "metadata": {},
   "outputs": [],
   "source": [
    "# Plot 2: Income Growth Trends Over Time\n",
    "if 'Income_YoY_Growth' in df_enriched.columns:\n",
    "    plt.subplot(2, 2, 2)\n",
    "    yearly_growth = df_enriched.groupby('Year')['Income_YoY_Growth'].mean().reset_index()\n",
    "    sns.lineplot(x='Year', y='Income_YoY_Growth', data=yearly_growth)\n",
    "    plt.title('Average Income Growth by Year')\n",
    "    plt.grid(True)\n"
   ]
  },
  {
   "cell_type": "code",
   "execution_count": null,
   "id": "99c7e422",
   "metadata": {},
   "outputs": [],
   "source": [
    "# Plot 3: Market Share Distribution\n",
    "if 'Market_Share' in df_enriched.columns:\n",
    "    plt.subplot(2, 2, 3)\n",
    "    sns.histplot(df_enriched['Market_Share'].dropna(), bins=30, kde=True)\n",
    "    plt.title('Distribution of Industry Market Shares')\n"
   ]
  },
  {
   "cell_type": "code",
   "execution_count": null,
   "id": "44055917",
   "metadata": {},
   "outputs": [],
   "source": [
    "# Plot 4: PCA Visualization\n",
    "if 'PCA_1' in df_enriched.columns and 'PCA_2' in df_enriched.columns:\n",
    "    plt.subplot(2, 2, 4)\n",
    "    sns.scatterplot(x='PCA_1', y='PCA_2', hue='Industry_Size', data=df_enriched.sample(1000))\n",
    "    plt.title('PCA Visualization of Industries')\n",
    "\n",
    "plt.tight_layout()\n",
    "plt.savefig('feature_engineering_visualization.png')\n",
    "plt.show()"
   ]
  }
 ],
 "metadata": {},
 "nbformat": 4,
 "nbformat_minor": 5
}